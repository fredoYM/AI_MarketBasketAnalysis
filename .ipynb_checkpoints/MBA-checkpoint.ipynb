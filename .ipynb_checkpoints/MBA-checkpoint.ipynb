{
 "cells": [
  {
   "cell_type": "code",
   "execution_count": null,
   "id": "55ebdac9",
   "metadata": {},
   "outputs": [],
   "source": [
    "import numpy as np  # Import numpy library for efficient array operations\n",
    "import pandas as pd  # Import pandas library for data processing\n",
    "import matplotlib.pyplot as plt  # Import matplotlib.pyplot for data visualization"
   ]
  },
  {
   "cell_type": "code",
   "execution_count": null,
   "id": "bac7692b",
   "metadata": {},
   "outputs": [],
   "source": [
    "df = pd.read_csv('C:/Assignment-1_Data.csv', sep=';',parse_dates=['Date'])\n",
    "df.head()"
   ]
  },
  {
   "cell_type": "code",
   "execution_count": null,
   "id": "a9efa78b",
   "metadata": {},
   "outputs": [],
   "source": [
    "# Convert the 'Price' column to float64 data type after replacing commas with dots\n",
    "df['Price'] = df['Price'].str.replace(',', '.').astype('float64')"
   ]
  },
  {
   "cell_type": "code",
   "execution_count": null,
   "id": "9a2ec612",
   "metadata": {},
   "outputs": [],
   "source": [
    "# Display the information about the DataFrame which is to provide an overview of the DataFrame's structure and column data types.\n",
    "df.info()\n",
    "df.describe(include='all')"
   ]
  },
  {
   "cell_type": "code",
   "execution_count": null,
   "id": "46eca9dc",
   "metadata": {},
   "outputs": [],
   "source": [
    "# Calculate the number of missing values for each column and sort them in descending order\n",
    "df.isna().sum().sort_values(ascending=False)"
   ]
  },
  {
   "cell_type": "code",
   "execution_count": null,
   "id": "b427d794",
   "metadata": {},
   "outputs": [],
   "source": [
    "# Calculate the total price by multiplying the quantity and price columns\n",
    "df['Total_Price'] = df.Quantity * df.Price"
   ]
  },
  {
   "cell_type": "code",
   "execution_count": null,
   "id": "1f80fe24",
   "metadata": {},
   "outputs": [],
   "source": [
    "# Print the number of unique countries in the 'Country' column\n",
    "print(\"Number of unique countries:\", df['Country'].nunique())\n",
    "\n",
    "# Calculate and print the normalized value counts of the top 5 countries in the 'Country' column\n",
    "print(df['Country'].value_counts(normalize=True)[:5])"
   ]
  },
  {
   "cell_type": "code",
   "execution_count": null,
   "id": "c4176874",
   "metadata": {},
   "outputs": [],
   "source": [
    "# Delete the 'Country' column from the DataFrame\n",
    "df.drop('Country', axis=1, inplace=True)"
   ]
  },
  {
   "cell_type": "code",
   "execution_count": null,
   "id": "2df23a4d",
   "metadata": {},
   "outputs": [],
   "source": [
    "# Filter the DataFrame to display rows where 'BillNo' column contains non-digit values\n",
    "df[df['BillNo'].str.isdigit() == False]"
   ]
  },
  {
   "cell_type": "code",
   "execution_count": null,
   "id": "a8177d26",
   "metadata": {},
   "outputs": [],
   "source": [
    "# Remove rows where the 'Itemname' column contains \"Adjust bad debt\"\n",
    "df = df[df['Itemname'] != \"Adjust bad debt\"]"
   ]
  },
  {
   "cell_type": "code",
   "execution_count": null,
   "id": "63f8f42f",
   "metadata": {},
   "outputs": [],
   "source": [
    "# Here to check if all BillNo doesn't inculde letters \n",
    "df['BillNo'].astype(\"int64\")"
   ]
  },
  {
   "cell_type": "code",
   "execution_count": null,
   "id": "bed7b112",
   "metadata": {},
   "outputs": [],
   "source": [
    "# Filter the DataFrame to exclude rows where 'Itemname' is missing (not NaN)\n",
    "df = df[df['Itemname'].notna()]\n",
    "\n",
    "# Print the number of unique items in the 'Itemname' column\n",
    "print(\"Number of unique items:\", df['Itemname'].nunique())\n",
    "\n",
    "# Calculate and print the normalized value counts of the top 5 items in the 'Itemname' column\n",
    "print(df['Itemname'].value_counts(normalize=True)[:5])"
   ]
  },
  {
   "cell_type": "code",
   "execution_count": null,
   "id": "a9945bde",
   "metadata": {},
   "outputs": [],
   "source": [
    "# Remove rows where 'Quantity' is less than 1\n",
    "df = df[df['Quantity'] >= 1]\n",
    "\n",
    "# Remove rows where the price is zero\n",
    "df = df[df['Price'] != 0]"
   ]
  },
  {
   "cell_type": "code",
   "execution_count": null,
   "id": "85928e6a",
   "metadata": {},
   "outputs": [],
   "source": [
    "# Plotting the top 10 most sold products by quantity\n",
    "df.groupby('Itemname')['Quantity'].sum().sort_values(ascending=False)[:10].plot(kind='barh', title='Number of Quantity Sold')\n",
    "plt.ylabel('Item Name')\n",
    "plt.xlim(20000, 82000)\n",
    "plt.show()\n",
    "\n",
    "# Plotting the top 10 most sold products by count\n",
    "df['Itemname'].value_counts(ascending=False)[:10].plot(kind='barh', title='Number of Sales')\n",
    "plt.ylabel('Item Name')\n",
    "plt.xlim(1000, 2300)\n",
    "plt.show()"
   ]
  },
  {
   "cell_type": "code",
   "execution_count": null,
   "id": "8e0bfbb7",
   "metadata": {},
   "outputs": [],
   "source": [
    "# Create a pivot table using the filtered DataFrame\n",
    "pivot_table = pd.pivot_table(df2[['BillNo','Itemname']], index='BillNo', columns='Itemname', aggfunc=lambda x: True, fill_value=False)"
   ]
  },
  {
   "cell_type": "code",
   "execution_count": null,
   "id": "9123c992",
   "metadata": {},
   "outputs": [],
   "source": [
    "from mlxtend.frequent_patterns import apriori\n",
    "from mlxtend.frequent_patterns import association_rules\n",
    "\n",
    "# Generate frequent itemsets with minimum support of 0.1 (10%)\n",
    "frequent_itemsets = apriori(pivot_table, min_support=0.01,use_colnames=True)\n",
    "\n",
    "# Generate association rules\n",
    "rules = association_rules(frequent_itemsets, \"confidence\", min_threshold = 0.5)\n",
    "\n",
    "# Print frequent itemsets\n",
    "print(\"Frequent Itemsets:\")\n",
    "print(frequent_itemsets)\n",
    "\n",
    "# Print association rules\n",
    "print(\"\\nAssociation Rules:\")\n",
    "rules"
   ]
  },
  {
   "cell_type": "code",
   "execution_count": null,
   "id": "dcae8d2f",
   "metadata": {},
   "outputs": [],
   "source": [
    "rules = rules.sort_values(['confidence', 'lift'], ascending =[False, False]) \n",
    "\n",
    "rules"
   ]
  },
  {
   "cell_type": "code",
   "execution_count": null,
   "id": "033a4159",
   "metadata": {},
   "outputs": [],
   "source": [
    "rules.sort_values(by='support', ascending=False)"
   ]
  },
  {
   "cell_type": "code",
   "execution_count": null,
   "id": "30ec3962",
   "metadata": {},
   "outputs": [],
   "source": [
    "# Sort rules by support in descending order\n",
    "sorted_rules = rules.sort_values(by='support', ascending=False)\n",
    "\n",
    "# Calculate cumulative support\n",
    "cumulative_support = np.cumsum(sorted_rules['support'] / np.sum(sorted_rules['support']) * 100)\n",
    "\n",
    "# Bar plot for Support\n",
    "fig, ax1 = plt.subplots(figsize=(8, 6))\n",
    "ax1.bar(range(len(sorted_rules)), sorted_rules['support'], align='center')\n",
    "plt.xticks(range(len(sorted_rules)), ['' for _ in range(len(sorted_rules))])  # Remove x-axis labels\n",
    "ax1.set_xlabel('Association Rule')\n",
    "ax1.set_ylabel('Support')\n",
    "ax1.set_title('Support of Association Rules')\n",
    "\n",
    "# CDF plot for cumulative support\n",
    "ax2 = ax1.twinx()\n",
    "ax2.plot(range(len(sorted_rules)), cumulative_support, color='#AA4A44', linestyle='--')\n",
    "ax2.set_ylabel('Cumulative Support (%)', c='#AA4A44')\n",
    "\n",
    "plt.tight_layout()\n",
    "plt.show()\n",
    "\n",
    "# Scatter plot for Confidence vs. Support\n",
    "plt.figure(figsize=(8, 6))\n",
    "plt.scatter(rules['support'], rules['confidence'], alpha=0.4)\n",
    "plt.xlabel('Support')\n",
    "plt.ylabel('Confidence')\n",
    "plt.title('Confidence vs. Support of Association Rules')\n",
    "plt.tight_layout()\n",
    "plt.show()"
   ]
  },
  {
   "cell_type": "code",
   "execution_count": null,
   "id": "9ce7027f",
   "metadata": {},
   "outputs": [],
   "source": [
    "# Filter association rules for cross-selling opportunities\n",
    "cross_selling_rules = rules[(rules['antecedents'].apply(len) == 1) & (rules['consequents'].apply(len) == 1)]\n",
    "\n",
    "# Sort rules based on confidence and support\n",
    "cross_selling_rules = cross_selling_rules.sort_values(by=['confidence', 'support'], ascending=False)\n",
    "\n",
    "# Select top cross-selling recommendations\n",
    "top_cross_selling = cross_selling_rules.head(5)\n",
    "\n",
    "# Filter association rules for upselling opportunities\n",
    "upselling_rules = rules[(rules['antecedents'].apply(len) == 1) & (rules['consequents'].apply(len) > 1)]\n",
    "\n",
    "# Sort rules based on confidence and support\n",
    "upselling_rules = upselling_rules.sort_values(by=['confidence', 'support'], ascending=False)\n",
    "\n",
    "# Select top upselling recommendations\n",
    "top_upselling = upselling_rules.head(5)\n",
    "\n",
    "# Display cross-selling recommendations\n",
    "print(\"Cross-Selling Recommendations:\")\n",
    "for idx, row in top_cross_selling.iterrows():\n",
    "    antecedent = list(row['antecedents'])[0]\n",
    "    consequent = list(row['consequents'])[0]\n",
    "    print(f\"Customers who bought '{antecedent}' also bought '{consequent}'.\")\n",
    "\n",
    "# Display upselling recommendations\n",
    "print(\"\\nUpselling Recommendations:\")\n",
    "for idx, row in top_upselling.iterrows():\n",
    "    antecedent = list(row['antecedents'])[0]\n",
    "    consequents = list(row['consequents'])\n",
    "    print(f\"For customers who bought '{antecedent}', recommend the following upgrades: {', '.join(consequents)}.\")"
   ]
  },
  {
   "cell_type": "code",
   "execution_count": null,
   "id": "863ffbd6",
   "metadata": {},
   "outputs": [],
   "source": [
    "top_upselling = upselling_rules.sort_values(['confidence', 'support'], ascending=False).drop_duplicates('antecedents')[:5]\n",
    "for idx, row in top_upselling.iterrows():\n",
    "    antecedent = list(row['antecedents'])[0]\n",
    "    consequents = list(row['consequents'])\n",
    "    print(f\"For customers who bought '{antecedent}', recommend the following upgrades: {', '.join(consequents)}.\")"
   ]
  },
  {
   "cell_type": "code",
   "execution_count": null,
   "id": "dda3a310",
   "metadata": {},
   "outputs": [],
   "source": []
  }
 ],
 "metadata": {
  "kernelspec": {
   "display_name": "Python 3 (ipykernel)",
   "language": "python",
   "name": "python3"
  },
  "language_info": {
   "codemirror_mode": {
    "name": "ipython",
    "version": 3
   },
   "file_extension": ".py",
   "mimetype": "text/x-python",
   "name": "python",
   "nbconvert_exporter": "python",
   "pygments_lexer": "ipython3",
   "version": "3.11.5"
  }
 },
 "nbformat": 4,
 "nbformat_minor": 5
}
